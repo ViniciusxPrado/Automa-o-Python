{
 "cells": [
  {
   "cell_type": "code",
   "execution_count": null,
   "id": "7ef85baf",
   "metadata": {},
   "outputs": [],
   "source": [
    "import pandas as pd\n",
    "#Importar biblioteca/Pandas\n",
    "\n",
    "tabela1 = pd.read_excel(\"1A.XLSX\")\n",
    "tabela2 = pd.read_excel(\"1B.XLSX\")\n",
    "tabela3 = pd.read_excel(\"1C.XLSX\")\n",
    "tabela4 = pd.read_excel(\"1D.XLSX\")\n",
    "\n",
    "#Ler tabelas do excel\n",
    "\n",
    "tabela = pd.concat([tabela1, tabela2,tabela3,tabela4])\n",
    "#Concatenar tabelas\n",
    "\n",
    "display(tabela)\n",
    "#Visualizar Tabela concatenada\n",
    "\n",
    "tabela.to_excel(\"Lista Piloto 1 anos.xlsx\", index=False)\n",
    "#Importa nova planilha para excel"
   ]
  },
  {
   "cell_type": "code",
   "execution_count": null,
   "id": "f9af7c72",
   "metadata": {},
   "outputs": [],
   "source": []
  }
 ],
 "metadata": {
  "kernelspec": {
   "display_name": "Python 3 (ipykernel)",
   "language": "python",
   "name": "python3"
  },
  "language_info": {
   "codemirror_mode": {
    "name": "ipython",
    "version": 3
   },
   "file_extension": ".py",
   "mimetype": "text/x-python",
   "name": "python",
   "nbconvert_exporter": "python",
   "pygments_lexer": "ipython3",
   "version": "3.9.12"
  }
 },
 "nbformat": 4,
 "nbformat_minor": 5
}
